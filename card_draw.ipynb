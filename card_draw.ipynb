{
 "cells": [
  {
   "cell_type": "markdown",
   "metadata": {},
   "source": [
    "# Udacity project: computing statistics of card draws\n",
    "\n",
    "______\n",
    "\n",
    "This note book will illustrate a python implementation of the random card draw from the Udacity module on Descriptive Statistics.\n",
    "\n",
    "First, import the required packages and set appropriate parameters:"
   ]
  },
  {
   "cell_type": "code",
   "execution_count": 1,
   "metadata": {
    "collapsed": true
   },
   "outputs": [],
   "source": [
    "%matplotlib inline\n",
    "\n",
    "import matplotlib.pyplot as plt\n",
    "import numpy as np"
   ]
  },
  {
   "cell_type": "markdown",
   "metadata": {},
   "source": [
    "## Step 1: create the required functions\n",
    "\n",
    "The **`create_deck`** function returns a list representing a standard deck of 52 cards."
   ]
  },
  {
   "cell_type": "code",
   "execution_count": 2,
   "metadata": {
    "collapsed": false
   },
   "outputs": [],
   "source": [
    "def create_deck():\n",
    "    ranks = [str(x) for x in range(2, 11)] + list('JQKA')\n",
    "    suits = list('sdch')\n",
    "    \n",
    "    return [rank+suit for suit in suits for rank in ranks]"
   ]
  },
  {
   "cell_type": "markdown",
   "metadata": {},
   "source": [
    "The **`choose_three`** function will return a list of three cards chosen at random, *without replacement*, from a deck.  Documentation on the np.random.choice is [here](https://docs.scipy.org/doc/numpy-1.13.0/reference/generated/numpy.random.choice.html)."
   ]
  },
  {
   "cell_type": "code",
   "execution_count": 3,
   "metadata": {
    "collapsed": false
   },
   "outputs": [],
   "source": [
    "def choose_three(deck):\n",
    "    return list(np.random.choice(deck, 3, replace=False))"
   ]
  },
  {
   "cell_type": "markdown",
   "metadata": {},
   "source": [
    "The function **`sample_the_deck`** pull three card samples a specified number of times (**`num_trials`**)."
   ]
  },
  {
   "cell_type": "code",
   "execution_count": 4,
   "metadata": {
    "collapsed": false
   },
   "outputs": [],
   "source": [
    "def sample_the_deck(num_trials, deck):\n",
    "    return [choose_three(deck) for i in range(num_trials)]"
   ]
  },
  {
   "cell_type": "markdown",
   "metadata": {},
   "source": [
    "The **`card_value`** function returns a value (int) for any card value created in the **`create_deck`** methodology."
   ]
  },
  {
   "cell_type": "code",
   "execution_count": 5,
   "metadata": {
    "collapsed": true
   },
   "outputs": [],
   "source": [
    "def card_value(card):\n",
    "    value = card[:-1]\n",
    "    if value == \"A\":\n",
    "        return 1\n",
    "    elif value in \"JQK\":\n",
    "        return 10\n",
    "    else:\n",
    "        return int(value)"
   ]
  },
  {
   "cell_type": "markdown",
   "metadata": {},
   "source": [
    "## Step 2: calculate statistics for drawing a single card from the deck\n",
    "\n",
    "Now, create a deck of cards, and display a few first/last elements to make sure everything is working correctly..."
   ]
  },
  {
   "cell_type": "code",
   "execution_count": 6,
   "metadata": {
    "collapsed": false
   },
   "outputs": [
    {
     "name": "stdout",
     "output_type": "stream",
     "text": [
      "['2s', '3s', '4s'] ... ['Qh', 'Kh', 'Ah']\n"
     ]
    }
   ],
   "source": [
    "deck = create_deck()\n",
    "print(deck[:3], '...', deck[-3:])"
   ]
  },
  {
   "cell_type": "markdown",
   "metadata": {},
   "source": [
    "Create a new list with the card values corresponding to each card, then display a histogram of the frequencies of card values from a single draw."
   ]
  },
  {
   "cell_type": "code",
   "execution_count": 7,
   "metadata": {
    "collapsed": false
   },
   "outputs": [
    {
     "data": {
      "image/png": "[encoded data removed]",
      "text/plain": [
       "<matplotlib.figure.Figure at 0x1161bb470>"
      ]
     },
     "metadata": {},
     "output_type": "display_data"
    }
   ],
   "source": [
    "deck_values = [card_value(card) for card in deck]\n",
    "\n",
    "plt.hist(deck_values, bins=[0.5+x for x in range(11)], facecolor='blue', rwidth=.75)\n",
    "plt.xticks(range(1,11))\n",
    "plt.title('Histogram of Card Values')\n",
    "plt.xlabel('Card Value')\n",
    "plt.ylabel('Frequency')\n",
    "plt.show()"
   ]
  },
  {
   "cell_type": "markdown",
   "metadata": {},
   "source": [
    "And compute the mean, median, and standard deviation of the card values from a single draw."
   ]
  },
  {
   "cell_type": "code",
   "execution_count": 8,
   "metadata": {
    "collapsed": false
   },
   "outputs": [
    {
     "name": "stdout",
     "output_type": "stream",
     "text": [
      "The mean of card values for a single draw:                6.54\n",
      "The median of card values for a single draw:              7.0\n",
      "The standard deviation of card values for a single draw:  3.15\n"
     ]
    }
   ],
   "source": [
    "print(\"The mean of card values for a single draw:               \", np.average(deck_values).round(2))\n",
    "print(\"The median of card values for a single draw:             \", np.median(deck_values))\n",
    "print(\"The standard deviation of card values for a single draw: \", np.std(deck_values).round(2))"
   ]
  },
  {
   "cell_type": "markdown",
   "metadata": {},
   "source": [
    "## Step 3: Three card samples\n",
    "\n",
    "Now, take 30 (or more) three-card samples (displaying the first three 3-card samples):"
   ]
  },
  {
   "cell_type": "code",
   "execution_count": 9,
   "metadata": {
    "collapsed": false
   },
   "outputs": [
    {
     "data": {
      "text/plain": [
       "[['Qc', 'Ks', 'Jh'], ['8d', '5s', '6s'], ['7c', 'Jc', '10s']]"
      ]
     },
     "execution_count": 9,
     "metadata": {},
     "output_type": "execute_result"
    }
   ],
   "source": [
    "samples = sample_the_deck(30, deck)         # change the number of trials here\n",
    "samples[:3]"
   ]
  },
  {
   "cell_type": "markdown",
   "metadata": {},
   "source": [
    "Now, compute the sums of the card values for each 3-card sample (displaying the first three to spot check against the samples displayed on the previous line)."
   ]
  },
  {
   "cell_type": "code",
   "execution_count": 10,
   "metadata": {
    "collapsed": false
   },
   "outputs": [
    {
     "data": {
      "text/plain": [
       "[30, 19, 27]"
      ]
     },
     "execution_count": 10,
     "metadata": {},
     "output_type": "execute_result"
    }
   ],
   "source": [
    "sample_sums = [np.sum([card_value(card) for card in sample]) for sample in samples]\n",
    "sample_sums[:3]"
   ]
  },
  {
   "cell_type": "markdown",
   "metadata": {},
   "source": [
    "Compute the mean and standard deviation of the sum of the card values from a 3-card draw."
   ]
  },
  {
   "cell_type": "code",
   "execution_count": 11,
   "metadata": {
    "collapsed": false
   },
   "outputs": [
    {
     "name": "stdout",
     "output_type": "stream",
     "text": [
      "The mean sum of card values for a 3-card draw:           20.07\n",
      "The standard deviation of the sums for a 3-card draw:    5.09\n"
     ]
    }
   ],
   "source": [
    "print(\"The mean sum of card values for a 3-card draw:          \", np.average(sample_sums).round(2))\n",
    "print(\"The standard deviation of the sums for a 3-card draw:   \", np.std(sample_sums).round(2))"
   ]
  },
  {
   "cell_type": "markdown",
   "metadata": {},
   "source": [
    "And create a histogram of sum of the values of the 3-card draw over the trials."
   ]
  },
  {
   "cell_type": "code",
   "execution_count": 12,
   "metadata": {
    "collapsed": false
   },
   "outputs": [
    {
     "data": {
      "image/png": "[encoded data removed]",
      "text/plain": [
       "<matplotlib.figure.Figure at 0x11952e358>"
      ]
     },
     "metadata": {},
     "output_type": "display_data"
    }
   ],
   "source": [
    "plt.hist(sample_sums, bins=[0.5+x for x in range(3,31,1)], facecolor='blue', rwidth=.75)\n",
    "plt.xticks(range(3,31))\n",
    "plt.title('Histogram of 3-Card Sample Sums')\n",
    "plt.xlabel('3-Card Sample Sum of Card Values')\n",
    "plt.ylabel('Frequency')\n",
    "plt.show()"
   ]
  },
  {
   "cell_type": "markdown",
   "metadata": {},
   "source": [
    "Based on the population mean value of 6.54 for a single card draw, the expected mean sum of card values for a 3-card draw would be:"
   ]
  },
  {
   "cell_type": "code",
   "execution_count": 13,
   "metadata": {
    "collapsed": false
   },
   "outputs": [
    {
     "data": {
      "text/plain": [
       "19.615384615384613"
      ]
     },
     "execution_count": 13,
     "metadata": {},
     "output_type": "execute_result"
    }
   ],
   "source": [
    "3*np.average(deck_values)"
   ]
  },
  {
   "cell_type": "markdown",
   "metadata": {},
   "source": [
    "The difference between this population mean and the observed mean of the 3-card samples is:"
   ]
  },
  {
   "cell_type": "code",
   "execution_count": 14,
   "metadata": {
    "collapsed": false
   },
   "outputs": [
    {
     "name": "stdout",
     "output_type": "stream",
     "text": [
      "The difference between the expected and observed means is -0.45\n"
     ]
    }
   ],
   "source": [
    "mean_difference = 3*np.average(deck_values) - np.average(sample_sums)\n",
    "print(\"The difference between the expected and observed means is\", mean_difference.round(2))"
   ]
  },
  {
   "cell_type": "markdown",
   "metadata": {},
   "source": [
    "The standard error of the sum of the 3-card sample is expected to be three times the standard deviation of the population (3 * 3.15) divided by the square root of 3 (the sample size):"
   ]
  },
  {
   "cell_type": "code",
   "execution_count": 15,
   "metadata": {
    "collapsed": false
   },
   "outputs": [
    {
     "data": {
      "text/plain": [
       "5.460996722861184"
      ]
     },
     "execution_count": 15,
     "metadata": {},
     "output_type": "execute_result"
    }
   ],
   "source": [
    "(3*np.std(deck_values))/(3**.5)"
   ]
  },
  {
   "cell_type": "markdown",
   "metadata": {},
   "source": [
    "The difference between this expected standard error mean and observed standard deviation of the sums of the values of the 3-card samples is:"
   ]
  },
  {
   "cell_type": "code",
   "execution_count": 16,
   "metadata": {
    "collapsed": false
   },
   "outputs": [
    {
     "name": "stdout",
     "output_type": "stream",
     "text": [
      "The difference between the expected and observed standard deviations is 0.37\n"
     ]
    }
   ],
   "source": [
    "std_difference = (3*np.std(deck_values))/(3**.5) - np.std(sample_sums)\n",
    "print(\"The difference between the expected and observed standard deviations is\", std_difference.round(2))"
   ]
  },
  {
   "cell_type": "markdown",
   "metadata": {},
   "source": [
    "**Note:**  Try larger numbers of trials (100 or 1000) of 3-card samples and the difference between the expected and observed standard deviation should converge toward zero."
   ]
  }
 ],
 "metadata": {
  "kernelspec": {
   "display_name": "Python 3",
   "language": "python",
   "name": "python3"
  },
  "language_info": {
   "codemirror_mode": {
    "name": "ipython",
    "version": 3
   },
   "file_extension": ".py",
   "mimetype": "text/x-python",
   "name": "python",
   "nbconvert_exporter": "python",
   "pygments_lexer": "ipython3",
   "version": "3.6.0"
  }
 },
 "nbformat": 4,
 "nbformat_minor": 2
}
